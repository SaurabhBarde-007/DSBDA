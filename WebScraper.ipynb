{
 "cells": [
  {
   "cell_type": "code",
   "execution_count": 1,
   "id": "e97b09e7",
   "metadata": {},
   "outputs": [],
   "source": [
    "import requests\n",
    "from bs4 import BeautifulSoup"
   ]
  },
  {
   "cell_type": "code",
   "execution_count": 2,
   "id": "4cce5d01",
   "metadata": {},
   "outputs": [],
   "source": [
    "HEADER = ({'User-Agent':'Mozilla/5.0 (Windows NT 10.0; Win64; x64) AppleWebKit/537.36 (KHTML, like Gecko) Chrome/74.0.3729.169 Safari/537.36'})"
   ]
  },
  {
   "cell_type": "code",
   "execution_count": 3,
   "id": "2db98f30",
   "metadata": {},
   "outputs": [],
   "source": [
    "def getdata(site_url):\n",
    "    res = requests.get(site_url,headers=HEADER)\n",
    "    return res.text"
   ]
  },
  {
   "cell_type": "code",
   "execution_count": 4,
   "id": "d9a4fa98",
   "metadata": {},
   "outputs": [],
   "source": [
    "def gethtml(site_url):\n",
    "    data = getdata(site_url)\n",
    "    soup = BeautifulSoup(data,'html.parser')\n",
    "    return (soup)"
   ]
  },
  {
   "cell_type": "code",
   "execution_count": 5,
   "id": "1138b15c",
   "metadata": {},
   "outputs": [],
   "source": [
    "site_url=\"https://www.flipkart.com/asus-tuf-gaming-a15-ryzen-5-hexa-core-amd-r5-4600h-8-gb-1-tb-ssd-windows-11-home-4-gb-graphics-nvidia-geforce-gtx-1650-144-hz-fa506ihrz-hn112w-laptop/p/itm20d472c5059c0?pid=COMGGJZFJRZY45WX&lid=LSTCOMGGJZFJRZY45WXD02LFG&marketplace=FLIPKART&fm=neo%2Fmerchandising&iid=M_b91993d6-aefa-4ab9-b3eb-80d93fd4eacb_25_G9SH8YV2O3HD_MC.COMGGJZFJRZY45WX&ppt=None&ppn=None&ssid=gqp3benpxc0000001683688081160&otracker=clp_pmu_v2_Gaming%2BLaptops_2_25.productCard.PMU_V2_ASUS%2BTUF%2BGaming%2BA15%2BRyzen%2B5%2BHexa%2BCore%2BAMD%2BR5-4600H%2B-%2B%25288%2BGB%252F1%2BTB%2BSSD%252FWindows%2B11%2BHome%252F4%2BGB%2BGraphics%252FNVIDIA%2BGeForce%2BGTX%2B1650%252F144%2BHz%2529%2BFA506IHRZ-HN112W%2BGaming%2BLaptop_laptops-store_COMGGJZFJRZY45WX_neo%2Fmerchandising_1&otracker1=clp_pmu_v2_PINNED_neo%2Fmerchandising_Gaming%2BLaptops_LIST_productCard_cc_2_NA_view-all&cid=COMGGJZFJRZY45WX\""
   ]
  },
  {
   "cell_type": "code",
   "execution_count": 7,
   "id": "f8a83373",
   "metadata": {},
   "outputs": [],
   "source": [
    "soup = gethtml(site_url)"
   ]
  },
  {
   "cell_type": "code",
   "execution_count": 24,
   "id": "a667e874",
   "metadata": {},
   "outputs": [],
   "source": [
    "def getCustomerName(soup):\n",
    "    data_string = \"\"\n",
    "    customer_list = []\n",
    "    \n",
    "    for item in soup.find_all(\"p\", class_=\"_2V5EHH\"):\n",
    "        data_string = data_string + item.get_text()\n",
    "        customer_list.append(data_string)\n",
    "        data_string = \"\"\n",
    "    return customer_list"
   ]
  },
  {
   "cell_type": "code",
   "execution_count": 25,
   "id": "ea04d4ca",
   "metadata": {},
   "outputs": [
    {
     "name": "stdout",
     "output_type": "stream",
     "text": [
      "['prateek kataria', 'Bishal Raj Biswas', 'Sourav Dutta', 'Faraz  Sayyed', 'Syd_ Mhd Ashiq Rahman', 'Azam Khatri', 'Pitash Indwar', 'Daksh  Sharma', 'Ankur Barik', 'Krishna Bangar']\n"
     ]
    }
   ],
   "source": [
    "customer_name = getCustomerName(soup)\n",
    "print(customer_name)"
   ]
  },
  {
   "cell_type": "code",
   "execution_count": 32,
   "id": "5a803882",
   "metadata": {},
   "outputs": [],
   "source": [
    "def getCustomerReview(soup):\n",
    "    rev_string = \"\"\n",
    "    customer_rev = []\n",
    "    \n",
    "    for item in soup.find_all(\"div\", class_=\"t-ZTKy\"):\n",
    "        rev_string = rev_string + item.get_text()\n",
    "        customer_rev.append(rev_string)\n",
    "        rev_string = \"\"\n",
    "    return customer_rev"
   ]
  },
  {
   "cell_type": "code",
   "execution_count": 33,
   "id": "162579a5",
   "metadata": {},
   "outputs": [
    {
     "name": "stdout",
     "output_type": "stream",
     "text": [
      "['This is what Asus stands for. (Gaming). Laptop is quite powerful with sharp looks and RGB keyboard is cherry on the cake.1 TB SSD makes it faster than its other variants. The laptop is made up of tough plastic material. Overall the laptop is best for gaming. GTA V can be played with very High graphics and with 144 htz the game gets smooth as butter.If you need a laptop for gaming and performance in budget, this is the perfect choice for you. Just go for it.READ MORE', \"Magnificent display, games run smoothly, though the battery drains very quickly while gaming... Web cam is ordinary though works with google meet and zoom like a charm. Besides 1 TB ssd storage makes the laptop a little heavier compared to the 512 gb variant but it's great a buy as you get more storage.. I played games like CS Go, Genshin impact, etc and it all ran smoothly , and watched animes and sports too, were quite astonishing in the 144Hz display screen. And speaking of the speakers, t...READ MORE\", 'Just mind blowing at this price. Such big storage of 1TB SSD, 4gb graphics card of gtx1650, 8gb Ram. So smooth gameplay experience of some heavy games like GTA V, JUMP FORCE, FAR CRY 4 etc. Its just awesome and in my opinion one can buy it if their is at this range.READ MORE', 'Awesome product and gaming performance is so good easy to make presentation and can play games with high quality graphics loved the pc but battery 🔋 drains little bit fastREAD MORE', 'Best laptop in this  price it awesome then I think go for it all are awesome I become a premium man after getting this lippy 🤩🤩🤩I loved it giving 5/5...READ MORE', 'This is a very budget friendly gaming laptop and comes with very good processor of Ryzen 5 4600H and Best Thing is that at this price point you got 1TB SSD usually we got 512 GB SSDREAD MORE', 'Really value for moneyREAD MORE', 'The Performance Of This Laptop Is Totally Lit🔥I Tried GTA 5 And Valorant They Work Extremely Well❤️And For Maximum Performance During Game Play It On Charge.144 Hertz Display Is Awesome.The Only Con Is The Battery Backup.READ MORE', \"The laptop's performance is very good. Games run smoothly on this laptopREAD MORE\", 'ONE OF THE BEST PRODUCT FROM ASUS . LOVED THE PRODUCT AND THE WAY IT WAS DELIVERED.READ MORE']\n"
     ]
    }
   ],
   "source": [
    "customer_review = getCustomerReview(soup)\n",
    "print(customer_review)"
   ]
  },
  {
   "cell_type": "code",
   "execution_count": 36,
   "id": "0f815c63",
   "metadata": {},
   "outputs": [],
   "source": [
    "def getCustomerRating(soup):\n",
    "    rat_string = \"\"\n",
    "    customer_rat = []\n",
    "    \n",
    "    for item in soup.find_all(\"div\", class_=\"_3LWZlK _1BLPMq\"):\n",
    "        rat_string = rat_string + item.get_text()\n",
    "        customer_rat.append(rat_string)\n",
    "        rat_string = \"\"\n",
    "    return customer_rat"
   ]
  },
  {
   "cell_type": "code",
   "execution_count": 37,
   "id": "69197315",
   "metadata": {},
   "outputs": [
    {
     "name": "stdout",
     "output_type": "stream",
     "text": [
      "['5', '4', '5', '5', '5', '5', '5', '5', '5', '5']\n"
     ]
    }
   ],
   "source": [
    "customer_rating = getCustomerRating(soup)\n",
    "print(customer_rating)"
   ]
  },
  {
   "cell_type": "code",
   "execution_count": 38,
   "id": "124f514b",
   "metadata": {},
   "outputs": [],
   "source": [
    "import pandas as pd"
   ]
  },
  {
   "cell_type": "code",
   "execution_count": 40,
   "id": "234b10b4",
   "metadata": {},
   "outputs": [],
   "source": [
    "customer_data = {\"Name\":customer_name,'review':customer_review, 'Rating':customer_rating}"
   ]
  },
  {
   "cell_type": "code",
   "execution_count": 41,
   "id": "7f593ffc",
   "metadata": {},
   "outputs": [],
   "source": [
    "df = pd.DataFrame(customer_data)"
   ]
  },
  {
   "cell_type": "code",
   "execution_count": 42,
   "id": "6c5e6462",
   "metadata": {},
   "outputs": [
    {
     "data": {
      "text/html": [
       "<div>\n",
       "<style scoped>\n",
       "    .dataframe tbody tr th:only-of-type {\n",
       "        vertical-align: middle;\n",
       "    }\n",
       "\n",
       "    .dataframe tbody tr th {\n",
       "        vertical-align: top;\n",
       "    }\n",
       "\n",
       "    .dataframe thead th {\n",
       "        text-align: right;\n",
       "    }\n",
       "</style>\n",
       "<table border=\"1\" class=\"dataframe\">\n",
       "  <thead>\n",
       "    <tr style=\"text-align: right;\">\n",
       "      <th></th>\n",
       "      <th>Name</th>\n",
       "      <th>review</th>\n",
       "      <th>Rating</th>\n",
       "    </tr>\n",
       "  </thead>\n",
       "  <tbody>\n",
       "    <tr>\n",
       "      <th>0</th>\n",
       "      <td>prateek kataria</td>\n",
       "      <td>This is what Asus stands for. (Gaming). Laptop...</td>\n",
       "      <td>5</td>\n",
       "    </tr>\n",
       "    <tr>\n",
       "      <th>1</th>\n",
       "      <td>Bishal Raj Biswas</td>\n",
       "      <td>Magnificent display, games run smoothly, thoug...</td>\n",
       "      <td>4</td>\n",
       "    </tr>\n",
       "    <tr>\n",
       "      <th>2</th>\n",
       "      <td>Sourav Dutta</td>\n",
       "      <td>Just mind blowing at this price. Such big stor...</td>\n",
       "      <td>5</td>\n",
       "    </tr>\n",
       "    <tr>\n",
       "      <th>3</th>\n",
       "      <td>Faraz  Sayyed</td>\n",
       "      <td>Awesome product and gaming performance is so g...</td>\n",
       "      <td>5</td>\n",
       "    </tr>\n",
       "    <tr>\n",
       "      <th>4</th>\n",
       "      <td>Syd_ Mhd Ashiq Rahman</td>\n",
       "      <td>Best laptop in this  price it awesome then I t...</td>\n",
       "      <td>5</td>\n",
       "    </tr>\n",
       "    <tr>\n",
       "      <th>5</th>\n",
       "      <td>Azam Khatri</td>\n",
       "      <td>This is a very budget friendly gaming laptop a...</td>\n",
       "      <td>5</td>\n",
       "    </tr>\n",
       "    <tr>\n",
       "      <th>6</th>\n",
       "      <td>Pitash Indwar</td>\n",
       "      <td>Really value for moneyREAD MORE</td>\n",
       "      <td>5</td>\n",
       "    </tr>\n",
       "    <tr>\n",
       "      <th>7</th>\n",
       "      <td>Daksh  Sharma</td>\n",
       "      <td>The Performance Of This Laptop Is Totally Lit🔥...</td>\n",
       "      <td>5</td>\n",
       "    </tr>\n",
       "    <tr>\n",
       "      <th>8</th>\n",
       "      <td>Ankur Barik</td>\n",
       "      <td>The laptop's performance is very good. Games r...</td>\n",
       "      <td>5</td>\n",
       "    </tr>\n",
       "    <tr>\n",
       "      <th>9</th>\n",
       "      <td>Krishna Bangar</td>\n",
       "      <td>ONE OF THE BEST PRODUCT FROM ASUS . LOVED THE ...</td>\n",
       "      <td>5</td>\n",
       "    </tr>\n",
       "  </tbody>\n",
       "</table>\n",
       "</div>"
      ],
      "text/plain": [
       "                    Name                                             review  \\\n",
       "0        prateek kataria  This is what Asus stands for. (Gaming). Laptop...   \n",
       "1      Bishal Raj Biswas  Magnificent display, games run smoothly, thoug...   \n",
       "2           Sourav Dutta  Just mind blowing at this price. Such big stor...   \n",
       "3          Faraz  Sayyed  Awesome product and gaming performance is so g...   \n",
       "4  Syd_ Mhd Ashiq Rahman  Best laptop in this  price it awesome then I t...   \n",
       "5            Azam Khatri  This is a very budget friendly gaming laptop a...   \n",
       "6          Pitash Indwar                    Really value for moneyREAD MORE   \n",
       "7          Daksh  Sharma  The Performance Of This Laptop Is Totally Lit🔥...   \n",
       "8            Ankur Barik  The laptop's performance is very good. Games r...   \n",
       "9         Krishna Bangar  ONE OF THE BEST PRODUCT FROM ASUS . LOVED THE ...   \n",
       "\n",
       "  Rating  \n",
       "0      5  \n",
       "1      4  \n",
       "2      5  \n",
       "3      5  \n",
       "4      5  \n",
       "5      5  \n",
       "6      5  \n",
       "7      5  \n",
       "8      5  \n",
       "9      5  "
      ]
     },
     "execution_count": 42,
     "metadata": {},
     "output_type": "execute_result"
    }
   ],
   "source": [
    "df"
   ]
  },
  {
   "cell_type": "code",
   "execution_count": null,
   "id": "1044be39",
   "metadata": {},
   "outputs": [],
   "source": []
  }
 ],
 "metadata": {
  "kernelspec": {
   "display_name": "Python 3 (ipykernel)",
   "language": "python",
   "name": "python3"
  },
  "language_info": {
   "codemirror_mode": {
    "name": "ipython",
    "version": 3
   },
   "file_extension": ".py",
   "mimetype": "text/x-python",
   "name": "python",
   "nbconvert_exporter": "python",
   "pygments_lexer": "ipython3",
   "version": "3.9.13"
  }
 },
 "nbformat": 4,
 "nbformat_minor": 5
}
